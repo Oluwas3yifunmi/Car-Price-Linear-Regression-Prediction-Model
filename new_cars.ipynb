{
 "cells": [
  {
   "cell_type": "code",
   "execution_count": 1,
   "metadata": {},
   "outputs": [],
   "source": [
    "#Importing essential libraries\n",
    "import pandas as pd\n",
    "import numpy as np\n",
    "import matplotlib.pyplot as plt\n",
    "import seaborn as sns\n",
    "import warnings\n",
    "warnings.filterwarnings('ignore')\n",
    "pd.set_option('display.max_columns', 40)"
   ]
  },
  {
   "cell_type": "code",
   "execution_count": null,
   "metadata": {},
   "outputs": [],
   "source": [
    "#Importing and viewing data\n",
    "cars= pd.read_csv('CarPrice_Assignment.csv', index_col= 'car_ID')\n",
    "cars.head()"
   ]
  },
  {
   "cell_type": "code",
   "execution_count": 3,
   "metadata": {},
   "outputs": [],
   "source": [
    "#changing column names to lower casing\n",
    "cars.columns= cars.columns.str.lower()"
   ]
  },
  {
   "cell_type": "code",
   "execution_count": null,
   "metadata": {},
   "outputs": [],
   "source": [
    "#checking for duplicates\n",
    "print('There are {} number of duplicates'.format(cars.duplicated().sum()))\n",
    "#checking for number of nulls\n",
    "cars.isna().sum()"
   ]
  },
  {
   "cell_type": "code",
   "execution_count": null,
   "metadata": {},
   "outputs": [],
   "source": [
    "#checking statistical summary of data\n",
    "cars.describe()"
   ]
  },
  {
   "cell_type": "code",
   "execution_count": 6,
   "metadata": {},
   "outputs": [],
   "source": [
    "#Getting the car manufacturer name from the car names\n",
    "pat= r\"[ ,.!?-]+\"\n",
    "carnames= cars['carname'].str.split(pat)\n",
    "carlist= []\n",
    "for word in carnames:\n",
    "    carlist.append(word[0])\n",
    "    \n",
    "#Updating the carname column with the manufacturer names\n",
    "cars['carname'] = carlist\n",
    "cars['carname']= cars['carname'].str.lower()"
   ]
  },
  {
   "cell_type": "code",
   "execution_count": 7,
   "metadata": {},
   "outputs": [],
   "source": [
    "#Cleaning the name column by making appropriate replacements\n",
    "replacements= {'toyouta':'toyota', 'porcshe':'porsche', 'maxda':'mazda', 'vokswagen':'volkswagen'}\n",
    "cars['carname']= cars['carname'].replace(replacements)"
   ]
  },
  {
   "cell_type": "code",
   "execution_count": 8,
   "metadata": {},
   "outputs": [],
   "source": [
    "#fixing the door number column\n",
    "cars['doornumber']= cars['doornumber'].replace({'two':2, 'four':4})\n",
    "\n",
    "#fixing the cylinder number column\n",
    "cars['cylindernumber']= cars['cylindernumber'].replace({'four':4, 'six':6, 'five':5, 'three':3, 'twelve':12, 'two':2, 'eight':8})"
   ]
  },
  {
   "cell_type": "code",
   "execution_count": 9,
   "metadata": {},
   "outputs": [],
   "source": [
    "#Creating a function for EDA\n",
    "def viz_plot(df, column, target= 'price'):\n",
    "    \"\"\"\n",
    "    Function to plot data depending on the data type of the column specified.\n",
    "\n",
    "    Parameters\n",
    "    ----------\n",
    "    df : DataFrame\n",
    "            The dataframe containing the data\n",
    "    column : str\n",
    "            The column to be plotted\n",
    "    target: price\n",
    "            Target column\n",
    "\n",
    "    Returns\n",
    "    -------\n",
    "    None\n",
    "        Displays the plot\n",
    "    \"\"\"\n",
    "    #For numerical columns\n",
    "    if pd.api.types.is_numeric_dtype(df[column]):\n",
    "        fig, ax= plt.subplots(1, 3, figsize= (12,5))\n",
    "\n",
    "        #histogram plot\n",
    "        sns.histplot(df[column], kde=True, ax= ax[0])\n",
    "        ax[0].set_title(f'Histogram of {column}')\n",
    "\n",
    "        #boxplot\n",
    "        sns.boxplot(df[column], ax= ax[1])\n",
    "        ax[1].set_title(f'Boxplot of {column}')\n",
    "\n",
    "        #scatterplot\n",
    "        sns.scatterplot(data=df, x= target, y= column, alpha= 0.5, ax= ax[2])\n",
    "        ax[2].set_title(f'Scatterplot of {target} against {column}')\n",
    "\n",
    "\n",
    "        plt.tight_layout()\n",
    "        plt.show()\n",
    "    #For non-numerical columns\n",
    "    elif pd.api.types.is_object_dtype(df[column]):\n",
    "        plt.figure(figsize=(8,6))\n",
    "        sns.countplot(x=df[column])\n",
    "        plt.title(f'Countplot of {column}')\n",
    "        plt.xticks(rotation= 45)\n",
    "        plt.tight_layout()\n",
    "        plt.show()\n",
    "    else:\n",
    "        print('Unsupported column data type')"
   ]
  },
  {
   "cell_type": "code",
   "execution_count": 10,
   "metadata": {},
   "outputs": [],
   "source": [
    "#Creating function to filter for outliers\n",
    "def outliers(df, column):\n",
    "    \"\"\"\n",
    "    Function to detect ouliers in a column using iqr method\n",
    "\n",
    "    Parameters\n",
    "    ----------\n",
    "    df : DataFrame\n",
    "            The dataframe containing the data\n",
    "    column : str\n",
    "            The column to be filtered on\n",
    "    \n",
    "    Returns\n",
    "    -------\n",
    "    flr: DataFrame\n",
    "            Filtered dataframe\n",
    "    \"\"\"\n",
    "    #calculating the 25th and 75th percentile\n",
    "    q25, q75= np.percentile(df[column], [25, 75])\n",
    "    #calculating iqr\n",
    "    iqr= q75 - q25\n",
    "    #defining upper and lower boundary\n",
    "    upp_bd= q75 + (iqr * 1.5)\n",
    "    lower_bd= q25 - (iqr * 1.5)\n",
    "    #applying the upper and lower boundary filter\n",
    "    flr= (df[column] < upp_bd) & (df[column] > lower_bd)\n",
    "\n",
    "    return flr, upp_bd, lower_bd   "
   ]
  },
  {
   "cell_type": "code",
   "execution_count": null,
   "metadata": {},
   "outputs": [],
   "source": [
    "#Feature correlation with price\n",
    "price_corr= cars.corr(numeric_only=True)['price'].sort_values(ascending=False)\n",
    "price_corr"
   ]
  },
  {
   "cell_type": "code",
   "execution_count": null,
   "metadata": {},
   "outputs": [],
   "source": [
    "# Most purchased type of car\n",
    "plt.figure(figsize=(10,5))\n",
    "sns.countplot(data=cars, x= 'carname', palette='viridis',)\n",
    "plt.title('Count per car')\n",
    "plt.xlabel('Car Names')\n",
    "plt.tight_layout()\n",
    "plt.xticks(rotation=45)\n",
    "plt.show()"
   ]
  },
  {
   "cell_type": "code",
   "execution_count": null,
   "metadata": {},
   "outputs": [],
   "source": [
    "#Relationship between engine size and price\n",
    "plt.figure(figsize=(8,5))\n",
    "sns.scatterplot(data=cars, x='price', y='enginesize', alpha=0.5, palette='viridis')\n",
    "plt.xlabel('Price')\n",
    "plt.ylabel('Engine size')\n",
    "plt.title('Relationship Engine size and price')\n",
    "plt.show()"
   ]
  },
  {
   "cell_type": "code",
   "execution_count": null,
   "metadata": {},
   "outputs": [],
   "source": [
    "#Most purchased type of car body\n",
    "plt.figure(figsize=(8,5))\n",
    "sns.countplot(data=cars, x='carbody', palette='viridis')\n",
    "plt.xlabel('Car Body')\n",
    "plt.title('Count per Car body')\n",
    "plt.show()"
   ]
  },
  {
   "cell_type": "code",
   "execution_count": null,
   "metadata": {},
   "outputs": [],
   "source": [
    "#MCount of purchases by fuel type\n",
    "plt.figure(figsize=(8,5))\n",
    "sns.countplot(data=cars, x='fueltype', palette='viridis')\n",
    "plt.xlabel('Fuel Type')\n",
    "plt.title('Count by Fuel type')\n",
    "plt.show()"
   ]
  },
  {
   "cell_type": "code",
   "execution_count": null,
   "metadata": {},
   "outputs": [],
   "source": [
    "plt.figure(figsize=(8,5))\n",
    "sns.scatterplot(data=cars, x='price', y='enginesize', hue='carbody', alpha=0.5)\n",
    "plt.xlabel('Price')\n",
    "plt.ylabel('Engine Size')\n",
    "plt.title('Relationship Between Engine Size and Price per Car Body Type')\n",
    "plt.show()"
   ]
  },
  {
   "cell_type": "code",
   "execution_count": 17,
   "metadata": {},
   "outputs": [],
   "source": [
    "#Feature Engineering\n",
    "#Power to weight ratio\n",
    "cars['powerweightratio']= cars['horsepower']/cars['curbweight']\n",
    "\n",
    "#Car volume\n",
    "cars['carvolume']= cars['carlength'] * cars['carheight'] * cars['carheight']\n",
    "\n",
    "#Average mpg: Takes the average of the city and highway mpg to get a balanced fuel consumption\n",
    "cars['averagempg']= (cars['highwaympg'] + cars['citympg'])/ 2\n",
    "\n",
    "#Compactness ratio: a lower ratio indicates a more compact design\n",
    "cars['compactnessratio']= cars['carlength']/cars['carwidth']\n"
   ]
  },
  {
   "cell_type": "code",
   "execution_count": 18,
   "metadata": {},
   "outputs": [],
   "source": [
    "#drop citympg, highwaympg, symboling, door number, peakrpm, car width, length, height, stroke, compression ratio\n",
    "cars_c= cars.drop(columns=['citympg', 'highwaympg', 'symboling', 'peakrpm', 'doornumber', 'carwidth', 'carlength', 'carheight', 'stroke', 'compressionratio'])"
   ]
  },
  {
   "cell_type": "code",
   "execution_count": 19,
   "metadata": {},
   "outputs": [],
   "source": [
    "#creating dummies for categorical columns\n",
    "cars_encoded= pd.get_dummies(cars_c, columns=['fueltype', 'aspiration', 'carbody', 'drivewheel', 'enginelocation', 'enginetype', 'cylindernumber', 'fuelsystem'], drop_first=True, sparse=False, dtype='int')\n",
    "new_cars= cars_encoded.drop('carname', axis=1)"
   ]
  },
  {
   "cell_type": "code",
   "execution_count": 20,
   "metadata": {},
   "outputs": [],
   "source": [
    "#importing model libraries\n",
    "from sklearn.model_selection import train_test_split, KFold, cross_val_score, RandomizedSearchCV\n",
    "from sklearn.preprocessing import StandardScaler, OneHotEncoder\n",
    "from sklearn.linear_model import Ridge, Lasso\n",
    "from sklearn.metrics import mean_squared_error\n",
    "\n",
    "#Instantiating libraries\n",
    "scaler= StandardScaler()\n",
    "ridge= Ridge()\n",
    "lasso= Lasso()"
   ]
  },
  {
   "cell_type": "code",
   "execution_count": null,
   "metadata": {},
   "outputs": [],
   "source": [
    "#Splitting data\n",
    "x= cars_encoded.drop(['price', 'carname'], axis=1)\n",
    "y= cars['price']\n",
    "x_tr, x_ts, y_tr, y_ts= train_test_split(x, y, random_state=42, shuffle=True, test_size=0.1)\n",
    "\n",
    "#Scaling data\n",
    "x_train= scaler.fit_transform(x_tr)\n",
    "x_test= scaler.transform(x_ts)\n",
    "\n",
    "#Model cross validation for Lasso model\n",
    "parameter= {'alpha':np.linspace(0.001, 1)}\n",
    "kfd= KFold(n_splits=10, shuffle=True, random_state=42)\n",
    "cv= RandomizedSearchCV(lasso, param_distributions=parameter, cv=kfd)\n",
    "\n",
    "#Fitting model and evaluating metrics\n",
    "cv.fit(x_train, y_tr)\n",
    "l_pred= cv.predict(x_test)\n",
    "lr2_score= cv.score(x_test, y_ts)\n",
    "lmse= mean_squared_error(y_ts, l_pred)\n",
    "lrmse= np.sqrt(lmse)\n",
    "\n",
    "#Model cross validation for Ridge model\n",
    "parameter= {'alpha':np.linspace(0.001, 1)}\n",
    "kfd= KFold(n_splits=10, shuffle=True, random_state=42)\n",
    "cv= RandomizedSearchCV(ridge, param_distributions=parameter, cv=kfd)\n",
    "\n",
    "#Fitting model and evaluating metrics\n",
    "cv.fit(x_train, y_tr)\n",
    "r_pred= cv.predict(x_test)\n",
    "R2_score= cv.score(x_test, y_ts)\n",
    "mse= mean_squared_error(y_ts, r_pred)\n",
    "rmse= np.sqrt(mse)\n",
    "\n",
    "print(f'Lasso R-squared: {np.round(lr2_score, 2)}')\n",
    "print(f'Lasso MSE: {np.round(lmse, 2)}')\n",
    "print(f'Lasso RMSE: {np.round(lrmse, 2)}\\n')\n",
    "print(f'Ridge R-squared: {np.round(R2_score, 2)}')\n",
    "print(f'Ridge MSE: {np.round(mse, 2)}')\n",
    "print(f'Ridge RMSE: {np.round(rmse, 2)}')"
   ]
  }
 ],
 "metadata": {
  "kernelspec": {
   "display_name": "Python 3",
   "language": "python",
   "name": "python3"
  },
  "language_info": {
   "codemirror_mode": {
    "name": "ipython",
    "version": 3
   },
   "file_extension": ".py",
   "mimetype": "text/x-python",
   "name": "python",
   "nbconvert_exporter": "python",
   "pygments_lexer": "ipython3",
   "version": "3.12.4"
  }
 },
 "nbformat": 4,
 "nbformat_minor": 2
}
